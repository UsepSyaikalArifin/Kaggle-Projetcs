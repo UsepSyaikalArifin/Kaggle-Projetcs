{
 "cells": [
  {
   "cell_type": "code",
   "execution_count": 5,
   "metadata": {},
   "outputs": [],
   "source": [
    "from nltk.tokenize import word_tokenize\n",
    "from IPython.display import display"
   ]
  },
  {
   "cell_type": "code",
   "execution_count": 15,
   "metadata": {},
   "outputs": [
    {
     "name": "stdout",
     "output_type": "stream",
     "text": [
      "This is not a Question\n"
     ]
    }
   ],
   "source": [
    "question_words = [\"what\", \"why\", \"when\", \"where\", \"which\", \"would\", \"whom\", \"whose\",\n",
    "                 \"name\", \"is\", \"how\", \"do\", \"does\", \"are\", \"could\", \"would\", \"should\", \"has\", \"have\", \"don't\"]\n",
    "question = input(\"Input a sentence : \")\n",
    "question = question.lower()\n",
    "question = word_tokenize(question)\n",
    "\n",
    "if any(x is question[0] for x in question_words):\n",
    "    print(\"This is a Questions!\")\n",
    "else:\n",
    "    print(\"This is not a Question\")"
   ]
  }
 ],
 "metadata": {
  "interpreter": {
   "hash": "a735e8d5f2ebeae8eff3c40d8a94f415263963b10ae3464c60988cc9ac0e5420"
  },
  "kernelspec": {
   "display_name": "Python 3.8.10 64-bit",
   "language": "python",
   "name": "python3"
  },
  "language_info": {
   "codemirror_mode": {
    "name": "ipython",
    "version": 3
   },
   "file_extension": ".py",
   "mimetype": "text/x-python",
   "name": "python",
   "nbconvert_exporter": "python",
   "pygments_lexer": "ipython3",
   "version": "3.8.10"
  },
  "orig_nbformat": 4
 },
 "nbformat": 4,
 "nbformat_minor": 2
}
